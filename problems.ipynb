{
 "cells": [
  {
   "cell_type": "markdown",
   "metadata": {},
   "source": [
    "1. Generate an infinite Fibonacci series using a generator.\n",
    "2. Sort a list without using the keyword Sort.\n",
    "3. Check whether a string is palindrome or not?\n",
    "4. Sort a dictionary dict comprehension.\n",
    "5. Find the pair with a given number in a list. two elements sum to the given number.\n",
    "6. Create a Fibonacci series using recursion.\n",
    "7. String manipulation. \"The Sky is Blue\" to \"Blue is The Sky\"\n",
    "8. Find the maximum repeated character in a string without having o(n2) complexity.\n",
    "9. Find a maximum and minimum value in a List without using any predefined function."
   ]
  },
  {
   "cell_type": "code",
   "execution_count": 16,
   "metadata": {},
   "outputs": [
    {
     "name": "stdout",
     "output_type": "stream",
     "text": [
      "[0, 1, 1, 2, 3, 5]\n"
     ]
    }
   ],
   "source": [
    "# 1. Generate an infinite Fibonacci series using a generator.\n",
    "from typing import Generator\n",
    "def fib(n: int) -> Generator[int, None, None]:\n",
    "    a: int = 0\n",
    "    b: int = 1\n",
    "    for _ in range(n+1):\n",
    "        yield a\n",
    "        a, b = b, a + b\n",
    "print(list(fib(5)))"
   ]
  },
  {
   "cell_type": "code",
   "execution_count": 17,
   "metadata": {},
   "outputs": [
    {
     "name": "stdout",
     "output_type": "stream",
     "text": [
      "0 1 1 2 3 5 8 13 21 34 "
     ]
    }
   ],
   "source": [
    "# 1. Generate an infinite Fibonacci series using a generator.\n",
    "def fibonacci():\n",
    "    a, b = 0, 1\n",
    "    while True:\n",
    "        yield a\n",
    "        a, b = b, a + b\n",
    "\n",
    "# Example usage:\n",
    "fib_gen = fibonacci()\n",
    "for _ in range(10):\n",
    "    print(next(fib_gen), end=\" \")"
   ]
  },
  {
   "cell_type": "code",
   "execution_count": 18,
   "metadata": {},
   "outputs": [
    {
     "data": {
      "text/plain": [
       "[1, 3, 3, 4, 4, 6, 6, 7, 8]"
      ]
     },
     "execution_count": 18,
     "metadata": {},
     "output_type": "execute_result"
    }
   ],
   "source": [
    "# 2. Sort a list without using the keyword Sort.\n",
    "def insertion_sort(arr: list[int]) -> list[int]:\n",
    "    n: int = len(arr)\n",
    "    for i in range(1, n):\n",
    "        insert_index: int = i\n",
    "        current_value: int = arr.pop(i)\n",
    "        for j in range(i - 1, -1, -1):\n",
    "            if arr[j] > current_value:\n",
    "                insert_index = j\n",
    "        arr.insert(insert_index, current_value)\n",
    "    return arr\n",
    "insertion_sort([3,6,1,8,4,6,7,4,3])"
   ]
  },
  {
   "cell_type": "code",
   "execution_count": 19,
   "metadata": {},
   "outputs": [
    {
     "data": {
      "text/plain": [
       "[1, 3, 3, 4, 4, 6, 6, 7, 8]"
      ]
     },
     "execution_count": 19,
     "metadata": {},
     "output_type": "execute_result"
    }
   ],
   "source": [
    "# 2. Sort a list without using the keyword Sort.\n",
    "def insertion_sort_while(arr):\n",
    "    for i in range(1, len(arr)):\n",
    "        key = arr[i]\n",
    "        j = i - 1\n",
    "        while j >= 0 and key < arr[j]:\n",
    "            arr[j+1] = arr[j]\n",
    "            j = j - 1\n",
    "        arr[j+1] = key\n",
    "    return arr\n",
    "insertion_sort_while([3,6,1,8,4,6,7,4,3])"
   ]
  },
  {
   "cell_type": "code",
   "execution_count": 20,
   "metadata": {},
   "outputs": [
    {
     "data": {
      "text/plain": [
       "8"
      ]
     },
     "execution_count": 20,
     "metadata": {},
     "output_type": "execute_result"
    }
   ],
   "source": [
    "# 6. Create a Fibonacci series using recursion.\n",
    "def fibonacci_recursion(n: int) -> int:\n",
    "    if n <= 1:\n",
    "        return n\n",
    "    else:\n",
    "        return fibonacci_recursion(n-1) + fibonacci_recursion(n-2)\n",
    "fibonacci_recursion(6)"
   ]
  },
  {
   "cell_type": "code",
   "execution_count": 21,
   "metadata": {},
   "outputs": [
    {
     "data": {
      "text/plain": [
       "True"
      ]
     },
     "execution_count": 21,
     "metadata": {},
     "output_type": "execute_result"
    }
   ],
   "source": [
    "# 3. Check whether a string is palindrome or not?\n",
    "def check_palidrome(input_string):\n",
    "    for i in range(len(input_string)):\n",
    "        if input_string[i] != input_string[len(input_string)- 1 - i]:\n",
    "            return False\n",
    "    return True\n",
    "check_palidrome(\"nayan\")"
   ]
  },
  {
   "cell_type": "code",
   "execution_count": 13,
   "metadata": {},
   "outputs": [
    {
     "data": {
      "text/plain": [
       "{'a': 1, 'c': 3, 'b': 5}"
      ]
     },
     "execution_count": 13,
     "metadata": {},
     "output_type": "execute_result"
    }
   ],
   "source": [
    "# 4. Sort a dictionary/ dict comprehension.\n",
    "def sort_dict(input_dict):\n",
    "    sorted_dict = {k:v for k, v in sorted(input_dict.items(), key=lambda item: item[1])}\n",
    "    return sorted_dict\n",
    "sort_dict({\"a\": 1, \"b\": 5, \"c\": 3})"
   ]
  },
  {
   "cell_type": "code",
   "execution_count": 36,
   "metadata": {},
   "outputs": [
    {
     "data": {
      "text/plain": [
       "[4, 5]"
      ]
     },
     "execution_count": 36,
     "metadata": {},
     "output_type": "execute_result"
    }
   ],
   "source": [
    "# 5. Find the pair with a given number in a list. two elements sum to the given number.\n",
    "def find_sum(arr, target):\n",
    "    for i in range(len(arr)):\n",
    "        for j in range(i+1, len(arr)):\n",
    "            if (target - arr[i]) == arr[j]:\n",
    "                return [arr[i], arr[j]]\n",
    "    return [0, 0]\n",
    "find_sum([1, 2, 3, 4, 5], 9)"
   ]
  },
  {
   "cell_type": "code",
   "execution_count": 35,
   "metadata": {},
   "outputs": [
    {
     "data": {
      "text/plain": [
       "[5, 4]"
      ]
     },
     "execution_count": 35,
     "metadata": {},
     "output_type": "execute_result"
    }
   ],
   "source": [
    "# 5. Find the pair with a given number in a list. two elements sum to the given number.\n",
    "def find_sum_efficient(arr, target):\n",
    "    seen = set()\n",
    "    for i in arr:\n",
    "        complement = target - i\n",
    "        if complement in seen:\n",
    "            return [i, complement]\n",
    "        seen.add(i)\n",
    "    return [0, 0]\n",
    "find_sum_efficient([1, 2, 3, 4, 5], 9)"
   ]
  }
 ],
 "metadata": {
  "kernelspec": {
   "display_name": "Python 3",
   "language": "python",
   "name": "python3"
  },
  "language_info": {
   "codemirror_mode": {
    "name": "ipython",
    "version": 3
   },
   "file_extension": ".py",
   "mimetype": "text/x-python",
   "name": "python",
   "nbconvert_exporter": "python",
   "pygments_lexer": "ipython3",
   "version": "3.11.7"
  }
 },
 "nbformat": 4,
 "nbformat_minor": 2
}

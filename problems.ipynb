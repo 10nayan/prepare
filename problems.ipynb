{
 "cells": [
  {
   "cell_type": "markdown",
   "metadata": {},
   "source": [
    "1. Generate an infinite Fibonacci series using a generator.\n",
    "2. Sort a list without using the keyword Sort.\n",
    "3. Check whether a string is palindrome or not?\n",
    "4. Sort a dictionary/ dict comprehension.\n",
    "5. Find the pair with a given number in a list. two elements sum to the given number.\n",
    "6. Create a Fibonacci series using recursion.\n",
    "7. String manipulation. \"The Sky is Blue\" to \"Blue is The Sky\"\n",
    "8. Find the maximum repeated character in a string without having o(n2) complexity.\n",
    "9. Find a maximum and minimum value in a List without using any predefined function."
   ]
  },
  {
   "cell_type": "code",
   "execution_count": 1,
   "metadata": {},
   "outputs": [],
   "source": [
    "# Sort a list without using the keyword Sort.\n"
   ]
  },
  {
   "cell_type": "code",
   "execution_count": null,
   "metadata": {},
   "outputs": [],
   "source": []
  }
 ],
 "metadata": {
  "kernelspec": {
   "display_name": "Python 3",
   "language": "python",
   "name": "python3"
  },
  "language_info": {
   "codemirror_mode": {
    "name": "ipython",
    "version": 3
   },
   "file_extension": ".py",
   "mimetype": "text/x-python",
   "name": "python",
   "nbconvert_exporter": "python",
   "pygments_lexer": "ipython3",
   "version": "3.11.7"
  }
 },
 "nbformat": 4,
 "nbformat_minor": 2
}

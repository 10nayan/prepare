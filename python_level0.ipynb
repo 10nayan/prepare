{
 "cells": [
  {
   "cell_type": "markdown",
   "metadata": {},
   "source": [
    "1. Difference between List, Tuple and Array.\n",
    "2. Lambda function with example.\n",
    "3. Difference between append() and expand() in list.\n",
    "4. Exception handling in Python.\n",
    "5. Decoration in detail with an example(customazied decoration, parameterized decorator). Add two numbers using the decorator.\n",
    "6. Abstraction. How to define abstract class/function?\n",
    "7. What do you mean by MRO?\n",
    "8. What do you mean by GIL?\n",
    "9. With statement/ Context managers. Example.\n",
    "10. Difference between static and class methods."
   ]
  }
 ],
 "metadata": {
  "language_info": {
   "name": "python"
  }
 },
 "nbformat": 4,
 "nbformat_minor": 2
}
